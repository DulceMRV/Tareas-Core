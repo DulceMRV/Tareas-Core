{
 "cells": [
  {
   "cell_type": "markdown",
   "metadata": {},
   "source": [
    "1. CARGAR DATOS"
   ]
  },
  {
   "cell_type": "code",
   "execution_count": 23,
   "metadata": {},
   "outputs": [],
   "source": [
    "# Importar librería necesaria\n",
    "import pandas as pd\n",
    "# Cargar el archivo Yulu.csv en un DataFrame\n",
    "df = pd.read_csv('C:/Users/Dulce/Downloads/BIKE RENTALS/Yulu.csv')"
   ]
  },
  {
   "cell_type": "code",
   "execution_count": 3,
   "metadata": {},
   "outputs": [
    {
     "name": "stdout",
     "output_type": "stream",
     "text": [
      "              datetime  season  holiday  workingday  weather   temp   atemp  \\\n",
      "0  2011-01-01 00:00:00       1        0           0        1   9.84  14.395   \n",
      "1  2011-01-01 01:00:00       1        0           0        1   9.02  13.635   \n",
      "2  2011-01-01 02:00:00       1        0           0        1   9.02  13.635   \n",
      "3  2011-01-01 03:00:00       1        0           0        1   9.84  14.395   \n",
      "4  2011-01-01 04:00:00       1        0           0        1   9.84  14.395   \n",
      "5  2011-01-01 05:00:00       1        0           0        2   9.84  12.880   \n",
      "6  2011-01-01 06:00:00       1        0           0        1   9.02  13.635   \n",
      "7  2011-01-01 07:00:00       1        0           0        1   8.20  12.880   \n",
      "8  2011-01-01 08:00:00       1        0           0        1   9.84  14.395   \n",
      "9  2011-01-01 09:00:00       1        0           0        1  13.12  17.425   \n",
      "\n",
      "   humidity  windspeed  casual  registered  count  \n",
      "0        81     0.0000       3          13     16  \n",
      "1        80     0.0000       8          32     40  \n",
      "2        80     0.0000       5          27     32  \n",
      "3        75     0.0000       3          10     13  \n",
      "4        75     0.0000       0           1      1  \n",
      "5        75     6.0032       0           1      1  \n",
      "6        80     0.0000       2           0      2  \n",
      "7        86     0.0000       1           2      3  \n",
      "8        75     0.0000       1           7      8  \n",
      "9        76     0.0000       8           6     14  \n"
     ]
    }
   ],
   "source": [
    "# Mostrar las primeras 10 filas para verificar la carga\n",
    "print(df.head(10))"
   ]
  },
  {
   "cell_type": "markdown",
   "metadata": {},
   "source": [
    "EXPLORACIÓN INICIAL DE DATOS"
   ]
  },
  {
   "cell_type": "code",
   "execution_count": 4,
   "metadata": {},
   "outputs": [
    {
     "name": "stdout",
     "output_type": "stream",
     "text": [
      "\n",
      "Últimas 5 filas del DataFrame:\n",
      "                  datetime  season  holiday  workingday  weather   temp  \\\n",
      "10881  2012-12-19 19:00:00       4        0           1        1  15.58   \n",
      "10882  2012-12-19 20:00:00       4        0           1        1  14.76   \n",
      "10883  2012-12-19 21:00:00       4        0           1        1  13.94   \n",
      "10884  2012-12-19 22:00:00       4        0           1        1  13.94   \n",
      "10885  2012-12-19 23:00:00       4        0           1        1  13.12   \n",
      "\n",
      "        atemp  humidity  windspeed  casual  registered  count  \n",
      "10881  19.695        50    26.0027       7         329    336  \n",
      "10882  17.425        57    15.0013      10         231    241  \n",
      "10883  15.910        61    15.0013       4         164    168  \n",
      "10884  17.425        61     6.0032      12         117    129  \n",
      "10885  16.665        66     8.9981       4          84     88  \n"
     ]
    }
   ],
   "source": [
    "# Muestra las últimas filas para verificar integridad\n",
    "print(\"\\nÚltimas 5 filas del DataFrame:\")\n",
    "print(df.tail(5))"
   ]
  },
  {
   "cell_type": "code",
   "execution_count": 5,
   "metadata": {},
   "outputs": [
    {
     "name": "stdout",
     "output_type": "stream",
     "text": [
      "\n",
      "Información del DataFrame:\n",
      "<class 'pandas.core.frame.DataFrame'>\n",
      "RangeIndex: 10886 entries, 0 to 10885\n",
      "Data columns (total 12 columns):\n",
      " #   Column      Non-Null Count  Dtype  \n",
      "---  ------      --------------  -----  \n",
      " 0   datetime    10886 non-null  object \n",
      " 1   season      10886 non-null  int64  \n",
      " 2   holiday     10886 non-null  int64  \n",
      " 3   workingday  10886 non-null  int64  \n",
      " 4   weather     10886 non-null  int64  \n",
      " 5   temp        10886 non-null  float64\n",
      " 6   atemp       10886 non-null  float64\n",
      " 7   humidity    10886 non-null  int64  \n",
      " 8   windspeed   10886 non-null  float64\n",
      " 9   casual      10886 non-null  int64  \n",
      " 10  registered  10886 non-null  int64  \n",
      " 11  count       10886 non-null  int64  \n",
      "dtypes: float64(3), int64(8), object(1)\n",
      "memory usage: 1020.7+ KB\n",
      "None\n"
     ]
    }
   ],
   "source": [
    "# Información General del DataFrame\n",
    "# Muestra el número de entradas, nombres de columnas, tipos de datos y memoria utilizada\n",
    "print(\"\\nInformación del DataFrame:\")\n",
    "print(df.info())"
   ]
  },
  {
   "cell_type": "code",
   "execution_count": 6,
   "metadata": {},
   "outputs": [
    {
     "name": "stdout",
     "output_type": "stream",
     "text": [
      "\n",
      "Estadísticas descriptivas:\n",
      "             season       holiday    workingday       weather         temp  \\\n",
      "count  10886.000000  10886.000000  10886.000000  10886.000000  10886.00000   \n",
      "mean       2.506614      0.028569      0.680875      1.418427     20.23086   \n",
      "std        1.116174      0.166599      0.466159      0.633839      7.79159   \n",
      "min        1.000000      0.000000      0.000000      1.000000      0.82000   \n",
      "25%        2.000000      0.000000      0.000000      1.000000     13.94000   \n",
      "50%        3.000000      0.000000      1.000000      1.000000     20.50000   \n",
      "75%        4.000000      0.000000      1.000000      2.000000     26.24000   \n",
      "max        4.000000      1.000000      1.000000      4.000000     41.00000   \n",
      "\n",
      "              atemp      humidity     windspeed        casual    registered  \\\n",
      "count  10886.000000  10886.000000  10886.000000  10886.000000  10886.000000   \n",
      "mean      23.655084     61.886460     12.799395     36.021955    155.552177   \n",
      "std        8.474601     19.245033      8.164537     49.960477    151.039033   \n",
      "min        0.760000      0.000000      0.000000      0.000000      0.000000   \n",
      "25%       16.665000     47.000000      7.001500      4.000000     36.000000   \n",
      "50%       24.240000     62.000000     12.998000     17.000000    118.000000   \n",
      "75%       31.060000     77.000000     16.997900     49.000000    222.000000   \n",
      "max       45.455000    100.000000     56.996900    367.000000    886.000000   \n",
      "\n",
      "              count  \n",
      "count  10886.000000  \n",
      "mean     191.574132  \n",
      "std      181.144454  \n",
      "min        1.000000  \n",
      "25%       42.000000  \n",
      "50%      145.000000  \n",
      "75%      284.000000  \n",
      "max      977.000000  \n"
     ]
    }
   ],
   "source": [
    "# Estadísticas Descriptivas\n",
    "# Generé estadísticas descriptivas a fin de visualizar las distribuciones y rangos de los datos numéricos.\n",
    "print(\"\\nEstadísticas descriptivas:\")\n",
    "print(df.describe())"
   ]
  },
  {
   "cell_type": "markdown",
   "metadata": {},
   "source": [
    "LIMPIEZA DE DATOS"
   ]
  },
  {
   "cell_type": "code",
   "execution_count": 7,
   "metadata": {},
   "outputs": [
    {
     "name": "stdout",
     "output_type": "stream",
     "text": [
      "\n",
      "Datos faltantes por columna:\n",
      "datetime      0\n",
      "season        0\n",
      "holiday       0\n",
      "workingday    0\n",
      "weather       0\n",
      "temp          0\n",
      "atemp         0\n",
      "humidity      0\n",
      "windspeed     0\n",
      "casual        0\n",
      "registered    0\n",
      "count         0\n",
      "dtype: int64\n"
     ]
    }
   ],
   "source": [
    "# Identificación de Datos Faltantes\n",
    "# Muestra el conteo de valores nulos en cada columna\n",
    "print(\"\\nDatos faltantes por columna:\")\n",
    "print(df.isnull().sum())"
   ]
  },
  {
   "cell_type": "code",
   "execution_count": 8,
   "metadata": {},
   "outputs": [],
   "source": [
    "# Convertir la columna 'datetime' a tipo de dato datetime\n",
    "df['datetime'] = pd.to_datetime(df['datetime'], errors='coerce')"
   ]
  },
  {
   "cell_type": "code",
   "execution_count": 9,
   "metadata": {},
   "outputs": [],
   "source": [
    "# Eliminar filas duplicadas, si las hay\n",
    "df.drop_duplicates(inplace=True)"
   ]
  },
  {
   "cell_type": "code",
   "execution_count": 10,
   "metadata": {},
   "outputs": [
    {
     "name": "stdout",
     "output_type": "stream",
     "text": [
      "\n",
      "Tipos de datos después de la conversión:\n",
      "datetime      datetime64[ns]\n",
      "season                 int64\n",
      "holiday                int64\n",
      "workingday             int64\n",
      "weather                int64\n",
      "temp                 float64\n",
      "atemp                float64\n",
      "humidity               int64\n",
      "windspeed            float64\n",
      "casual                 int64\n",
      "registered             int64\n",
      "count                  int64\n",
      "dtype: object\n",
      "\n",
      "Número de filas después de eliminar duplicados:\n",
      "10886\n"
     ]
    }
   ],
   "source": [
    "# Verificar el tipo de datos de cada columna\n",
    "print(\"\\nTipos de datos después de la conversión:\")\n",
    "print(df.dtypes)\n",
    "\n",
    "# Verificar el número de filas después de eliminar duplicados\n",
    "print(\"\\nNúmero de filas después de eliminar duplicados:\")\n",
    "print(df.shape[0])  # Muestra el número de filas"
   ]
  },
  {
   "cell_type": "markdown",
   "metadata": {},
   "source": [
    "TRANSFORMACIÓN DE DATOS"
   ]
  },
  {
   "cell_type": "code",
   "execution_count": 11,
   "metadata": {},
   "outputs": [],
   "source": [
    "# Crear una nueva columna que calcule el total de ciclistas\n",
    "df['total_riders'] = df['casual'] + df['registered']"
   ]
  },
  {
   "cell_type": "code",
   "execution_count": 13,
   "metadata": {},
   "outputs": [],
   "source": [
    "# Normalización de la columna 'temp' usando Min-Max Scaling\n",
    "df['temp_normalized'] = (df['temp'] - df['temp'].min()) / (df['temp'].max() - df['temp'].min())"
   ]
  },
  {
   "cell_type": "code",
   "execution_count": 17,
   "metadata": {},
   "outputs": [],
   "source": [
    "# Estandarización de la columna 'humidity'\n",
    "df['humidity_standardized'] = (df['humidity'] - df['humidity'].mean()) / df['humidity'].std()"
   ]
  },
  {
   "cell_type": "code",
   "execution_count": null,
   "metadata": {},
   "outputs": [],
   "source": []
  },
  {
   "cell_type": "code",
   "execution_count": 15,
   "metadata": {},
   "outputs": [],
   "source": [
    "# Clasificar 'temp' en categorías de temperatura\n",
    "df['temp_category'] = pd.cut(df['temp'], bins=[-1, 10, 20, 30, 50], labels=['Frío', 'Templado', 'Caluroso', 'Muy Caluroso'])"
   ]
  },
  {
   "cell_type": "code",
   "execution_count": 18,
   "metadata": {},
   "outputs": [
    {
     "name": "stdout",
     "output_type": "stream",
     "text": [
      "   total_riders  temp_normalized  humidity_standardized temp_category\n",
      "0            16         0.224490               0.993167          Frío\n",
      "1            40         0.204082               0.941206          Frío\n",
      "2            32         0.204082               0.941206          Frío\n",
      "3            13         0.224490               0.681399          Frío\n",
      "4             1         0.224490               0.681399          Frío\n",
      "5             1         0.224490               0.681399          Frío\n",
      "6             2         0.204082               0.941206          Frío\n",
      "7             3         0.183673               1.252975          Frío\n",
      "8             8         0.224490               0.681399          Frío\n",
      "9            14         0.306122               0.733360      Templado\n"
     ]
    }
   ],
   "source": [
    "print(df[['total_riders', 'temp_normalized', 'humidity_standardized', 'temp_category']].head(10))"
   ]
  },
  {
   "cell_type": "markdown",
   "metadata": {},
   "source": [
    "ANÁLISIS DE DATOS"
   ]
  },
  {
   "cell_type": "code",
   "execution_count": 19,
   "metadata": {},
   "outputs": [
    {
     "name": "stdout",
     "output_type": "stream",
     "text": [
      "Cantidad total de ciclistas por estación:\n",
      "season\n",
      "1    312498\n",
      "2    588282\n",
      "3    640662\n",
      "4    544034\n",
      "Name: total_riders, dtype: int64\n"
     ]
    }
   ],
   "source": [
    "# Agrupación por estación para ver la cantidad total de ciclistas en cada estación\n",
    "riders_por_estacion = df.groupby('season')['total_riders'].sum()\n",
    "print(\"Cantidad total de ciclistas por estación:\")\n",
    "print(riders_por_estacion)"
   ]
  },
  {
   "cell_type": "code",
   "execution_count": 20,
   "metadata": {},
   "outputs": [
    {
     "name": "stdout",
     "output_type": "stream",
     "text": [
      "\n",
      "Resumen de 'total_riders' agrupado por 'weather':\n",
      "             sum        mean  count  min  max         std           var\n",
      "weather                                                                \n",
      "1        1476063  205.236791   7192    1  977  187.959566  35328.798463\n",
      "2         507160  178.955540   2834    1  890  168.366413  28347.248993\n",
      "3         102089  118.846333    859    1  891  138.581297  19204.775893\n",
      "4            164  164.000000      1  164  164         NaN           NaN\n"
     ]
    }
   ],
   "source": [
    "# Aplicar funciones de agregación (sum, mean, max, std) a 'total_riders' agrupado por 'weather'\n",
    "resumen_weather = df.groupby('weather')['total_riders'].agg(['sum', 'mean', 'count', 'min', 'max', 'std', 'var'])\n",
    "print(\"\\nResumen de 'total_riders' agrupado por 'weather':\")\n",
    "print(resumen_weather)"
   ]
  },
  {
   "cell_type": "code",
   "execution_count": 21,
   "metadata": {},
   "outputs": [
    {
     "name": "stdout",
     "output_type": "stream",
     "text": [
      "\n",
      "Proporción de ciclistas casuales respecto al total:\n",
      "   casual  total_riders  proporción_casual\n",
      "0       3            16           0.187500\n",
      "1       8            40           0.200000\n",
      "2       5            32           0.156250\n",
      "3       3            13           0.230769\n",
      "4       0             1           0.000000\n",
      "5       0             1           0.000000\n",
      "6       2             2           1.000000\n",
      "7       1             3           0.333333\n",
      "8       1             8           0.125000\n",
      "9       8            14           0.571429\n"
     ]
    }
   ],
   "source": [
    "# Definir una función personalizada\n",
    "def proporción_casual(fila):\n",
    "    if fila['total_riders'] > 0:\n",
    "        return fila['casual'] / fila['total_riders']\n",
    "    else:\n",
    "        return 0\n",
    "\n",
    "# Aplicar la función a cada fila y crear una nueva columna 'proporción_casual'\n",
    "df['proporción_casual'] = df.apply(proporción_casual, axis=1)\n",
    "print(\"\\nProporción de ciclistas casuales respecto al total:\")\n",
    "print(df[['casual', 'total_riders', 'proporción_casual']].head(10))"
   ]
  },
  {
   "cell_type": "code",
   "execution_count": 22,
   "metadata": {},
   "outputs": [
    {
     "name": "stdout",
     "output_type": "stream",
     "text": [
      "\n",
      "Datos agrupados por 'season':\n",
      "season\n",
      "1    312498\n",
      "2    588282\n",
      "3    640662\n",
      "4    544034\n",
      "Name: total_riders, dtype: int64\n",
      "\n",
      "Resumen de agregaciones en 'weather':\n",
      "             sum        mean  count  min  max         std           var\n",
      "weather                                                                \n",
      "1        1476063  205.236791   7192    1  977  187.959566  35328.798463\n",
      "2         507160  178.955540   2834    1  890  168.366413  28347.248993\n",
      "3         102089  118.846333    859    1  891  138.581297  19204.775893\n",
      "4            164  164.000000      1  164  164         NaN           NaN\n",
      "\n",
      "Ejemplo de la columna 'proporción_casual':\n",
      "   casual  total_riders  proporción_casual\n",
      "0       3            16           0.187500\n",
      "1       8            40           0.200000\n",
      "2       5            32           0.156250\n",
      "3       3            13           0.230769\n",
      "4       0             1           0.000000\n",
      "5       0             1           0.000000\n",
      "6       2             2           1.000000\n",
      "7       1             3           0.333333\n",
      "8       1             8           0.125000\n",
      "9       8            14           0.571429\n"
     ]
    }
   ],
   "source": [
    "print(\"\\nDatos agrupados por 'season':\")\n",
    "print(riders_por_estacion)\n",
    "\n",
    "print(\"\\nResumen de agregaciones en 'weather':\")\n",
    "print(resumen_weather)\n",
    "\n",
    "print(\"\\nEjemplo de la columna 'proporción_casual':\")\n",
    "print(df[['casual', 'total_riders', 'proporción_casual']].head(10))"
   ]
  },
  {
   "cell_type": "markdown",
   "metadata": {},
   "source": [
    "CONCLUSIÓN"
   ]
  },
  {
   "cell_type": "code",
   "execution_count": null,
   "metadata": {},
   "outputs": [],
   "source": [
    "# Con el código anterior, exploré, limpié, transformé y analizé el dataset, obtuve los siguientes datos:\n",
    "# La cantidad de ciclistas en cada estación.\n",
    "# La distribución de ciclistas según las condiciones climáticas.\n",
    "# La proporción de ciclistas casuales frente a los registrados en cada instancia."
   ]
  }
 ],
 "metadata": {
  "kernelspec": {
   "display_name": "Python 3",
   "language": "python",
   "name": "python3"
  },
  "language_info": {
   "codemirror_mode": {
    "name": "ipython",
    "version": 3
   },
   "file_extension": ".py",
   "mimetype": "text/x-python",
   "name": "python",
   "nbconvert_exporter": "python",
   "pygments_lexer": "ipython3",
   "version": "3.12.7"
  }
 },
 "nbformat": 4,
 "nbformat_minor": 2
}
