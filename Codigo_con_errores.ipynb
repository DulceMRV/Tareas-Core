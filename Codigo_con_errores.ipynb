{
 "cells": [
  {
   "cell_type": "markdown",
   "metadata": {},
   "source": [
    "EL CÓDIGO A SER CORREGIDO BRINDADO EN LA PLATAFORMA:"
   ]
  },
  {
   "cell_type": "code",
   "execution_count": 4,
   "metadata": {},
   "outputs": [
    {
     "ename": "AttributeError",
     "evalue": "module 'pandas.compat' has no attribute 'StringIO'",
     "output_type": "error",
     "traceback": [
      "\u001b[1;31m---------------------------------------------------------------------------\u001b[0m",
      "\u001b[1;31mAttributeError\u001b[0m                            Traceback (most recent call last)",
      "Cell \u001b[1;32mIn[4], line 16\u001b[0m\n\u001b[0;32m      5\u001b[0m data \u001b[38;5;241m=\u001b[39m \u001b[38;5;124m\"\"\"\u001b[39m\n\u001b[0;32m      6\u001b[0m \u001b[38;5;124mfecha,ventas\u001b[39m\n\u001b[0;32m      7\u001b[0m \u001b[38;5;124m2023-01-01,200\u001b[39m\n\u001b[1;32m   (...)\u001b[0m\n\u001b[0;32m     12\u001b[0m \u001b[38;5;124m2023-01-06,225\u001b[39m\n\u001b[0;32m     13\u001b[0m \u001b[38;5;124m\"\"\"\u001b[39m\n\u001b[0;32m     15\u001b[0m \u001b[38;5;66;03m# Cargar los datos en un DataFrame de Pandas\u001b[39;00m\n\u001b[1;32m---> 16\u001b[0m df \u001b[38;5;241m=\u001b[39m pd\u001b[38;5;241m.\u001b[39mread_csv(\u001b[43mpd\u001b[49m\u001b[38;5;241;43m.\u001b[39;49m\u001b[43mcompat\u001b[49m\u001b[38;5;241;43m.\u001b[39;49m\u001b[43mStringIO\u001b[49m(data))\n\u001b[0;32m     18\u001b[0m \u001b[38;5;66;03m# Convertir la columna 'fecha' a formato datetime\u001b[39;00m\n\u001b[0;32m     19\u001b[0m df[\u001b[38;5;124m'\u001b[39m\u001b[38;5;124mfecha\u001b[39m\u001b[38;5;124m'\u001b[39m] \u001b[38;5;241m=\u001b[39m pd\u001b[38;5;241m.\u001b[39mto_datetime(df[\u001b[38;5;124m'\u001b[39m\u001b[38;5;124mfechas\u001b[39m\u001b[38;5;124m'\u001b[39m])\n",
      "\u001b[1;31mAttributeError\u001b[0m: module 'pandas.compat' has no attribute 'StringIO'"
     ]
    }
   ],
   "source": [
    "import pandas as pd\n",
    "import matplotlib.pyplot as plt\n",
    "\n",
    "# Datos de ejemplo en formato CSV\n",
    "data = \"\"\"\n",
    "fecha,ventas\n",
    "2023-01-01,200\n",
    "2023-01-02,220\n",
    "2023-01-03,210\n",
    "2023-01-04,205\n",
    "2023-01-05,215\n",
    "2023-01-06,225\n",
    "\"\"\"\n",
    "\n",
    "# Cargar los datos en un DataFrame de Pandas\n",
    "df = pd.read_csv(pd.compat.StringIO(data))\n",
    "\n",
    "# Convertir la columna 'fecha' a formato datetime\n",
    "df['fecha'] = pd.to_datetime(df['fechas'])\n",
    "\n",
    "# Gráfico de líneas de las ventas\n",
    "plt.figure(figsize=(10, 6))\n",
    "plt.plot(df['fecha'], df['ventas'])\n",
    "plt.title(\"Ventas Diarias\")\n",
    "plt.xlabel(\"Fecha\")\n",
    "plt.ylabel(\"Ventas\")\n",
    "plt.show()\n",
    "\n",
    "# Crear un gráfico de dispersión\n",
    "plt.scatter(df['fecha'], df['ventas'])\n",
    "plt.title(\"Ventas Diarias\")\n",
    "plt.xlabel(\"Fecha\")\n",
    "plt.ylabel(\"Ventas\")\n",
    "plt.show()\n",
    "\n",
    "# Crear un histograma de las ventas\n",
    "plt.hist(df['ventas'], bins=5, color='skyblue', edgecolor='black')\n",
    "plt.title(\"Distribución de Ventas\")\n",
    "plt.xlabel(\"Ventas\")\n",
    "plt.ylabel(\"Frecuencia\")\n",
    "plt.show()"
   ]
  }
 ],
 "metadata": {
  "kernelspec": {
   "display_name": "Python 3",
   "language": "python",
   "name": "python3"
  },
  "language_info": {
   "codemirror_mode": {
    "name": "ipython",
    "version": 3
   },
   "file_extension": ".py",
   "mimetype": "text/x-python",
   "name": "python",
   "nbconvert_exporter": "python",
   "pygments_lexer": "ipython3",
   "version": "3.12.7"
  }
 },
 "nbformat": 4,
 "nbformat_minor": 2
}
