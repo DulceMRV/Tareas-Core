{
 "cells": [
  {
   "cell_type": "markdown",
   "metadata": {},
   "source": [
    "CARGAR DATOS"
   ]
  },
  {
   "cell_type": "code",
   "execution_count": 26,
   "metadata": {},
   "outputs": [
    {
     "name": "stdout",
     "output_type": "stream",
     "text": [
      "   Transaction ID        Date Customer ID  Gender  Age Product Category  \\\n",
      "0               1  2023-11-24     CUST001    Male   34           Beauty   \n",
      "1               2  2023-02-27     CUST002  Female   26         Clothing   \n",
      "2               3  2023-01-13     CUST003    Male   50      Electronics   \n",
      "3               4  2023-05-21     CUST004    Male   37         Clothing   \n",
      "4               5  2023-05-06     CUST005    Male   30           Beauty   \n",
      "5               6  2023-04-25     CUST006  Female   45           Beauty   \n",
      "6               7  2023-03-13     CUST007    Male   46         Clothing   \n",
      "7               8  2023-02-22     CUST008    Male   30      Electronics   \n",
      "8               9  2023-12-13     CUST009    Male   63      Electronics   \n",
      "9              10  2023-10-07     CUST010  Female   52         Clothing   \n",
      "\n",
      "   Quantity  Price per Unit  Total Amount  \n",
      "0         3              50           150  \n",
      "1         2             500          1000  \n",
      "2         1              30            30  \n",
      "3         1             500           500  \n",
      "4         2              50           100  \n",
      "5         1              30            30  \n",
      "6         2              25            50  \n",
      "7         4              25           100  \n",
      "8         2             300           600  \n",
      "9         4              50           200  \n"
     ]
    }
   ],
   "source": [
    "import pandas as pd\n",
    "\n",
    "# Cargar el archivo retail_sales_dataset.csv desde Descargas\n",
    "df = pd.read_csv('C:/Users/dulce/Downloads/retail_sales_dataset.csv')\n",
    "\n",
    "# Mostrar las primeras 10 filas para confirmar que los datos se han cargado correctamente\n",
    "print(df.head(10))"
   ]
  },
  {
   "cell_type": "markdown",
   "metadata": {},
   "source": [
    "EXPLORACIÓN INICIAL DE DATOS"
   ]
  },
  {
   "cell_type": "markdown",
   "metadata": {},
   "source": [
    "##Mostrar las últimas 5 filas"
   ]
  },
  {
   "cell_type": "code",
   "execution_count": 27,
   "metadata": {},
   "outputs": [
    {
     "name": "stdout",
     "output_type": "stream",
     "text": [
      "     Transaction ID        Date Customer ID  Gender  Age Product Category  \\\n",
      "995             996  2023-05-16     CUST996    Male   62         Clothing   \n",
      "996             997  2023-11-17     CUST997    Male   52           Beauty   \n",
      "997             998  2023-10-29     CUST998  Female   23           Beauty   \n",
      "998             999  2023-12-05     CUST999  Female   36      Electronics   \n",
      "999            1000  2023-04-12    CUST1000    Male   47      Electronics   \n",
      "\n",
      "     Quantity  Price per Unit  Total Amount  \n",
      "995         1              50            50  \n",
      "996         3              30            90  \n",
      "997         4              25           100  \n",
      "998         3              50           150  \n",
      "999         4              30           120  \n"
     ]
    }
   ],
   "source": [
    "print(df.tail(5))"
   ]
  },
  {
   "cell_type": "markdown",
   "metadata": {},
   "source": [
    "Obtener información general del DataFrame"
   ]
  },
  {
   "cell_type": "code",
   "execution_count": 28,
   "metadata": {},
   "outputs": [
    {
     "name": "stdout",
     "output_type": "stream",
     "text": [
      "<class 'pandas.core.frame.DataFrame'>\n",
      "RangeIndex: 1000 entries, 0 to 999\n",
      "Data columns (total 9 columns):\n",
      " #   Column            Non-Null Count  Dtype \n",
      "---  ------            --------------  ----- \n",
      " 0   Transaction ID    1000 non-null   int64 \n",
      " 1   Date              1000 non-null   object\n",
      " 2   Customer ID       1000 non-null   object\n",
      " 3   Gender            1000 non-null   object\n",
      " 4   Age               1000 non-null   int64 \n",
      " 5   Product Category  1000 non-null   object\n",
      " 6   Quantity          1000 non-null   int64 \n",
      " 7   Price per Unit    1000 non-null   int64 \n",
      " 8   Total Amount      1000 non-null   int64 \n",
      "dtypes: int64(5), object(4)\n",
      "memory usage: 70.4+ KB\n",
      "None\n"
     ]
    }
   ],
   "source": [
    "print(df.info())"
   ]
  },
  {
   "cell_type": "markdown",
   "metadata": {},
   "source": [
    "Generar estadísticas descriptivas"
   ]
  },
  {
   "cell_type": "code",
   "execution_count": 29,
   "metadata": {},
   "outputs": [
    {
     "name": "stdout",
     "output_type": "stream",
     "text": [
      "       Transaction ID         Age     Quantity  Price per Unit  Total Amount\n",
      "count     1000.000000  1000.00000  1000.000000     1000.000000   1000.000000\n",
      "mean       500.500000    41.39200     2.514000      179.890000    456.000000\n",
      "std        288.819436    13.68143     1.132734      189.681356    559.997632\n",
      "min          1.000000    18.00000     1.000000       25.000000     25.000000\n",
      "25%        250.750000    29.00000     1.000000       30.000000     60.000000\n",
      "50%        500.500000    42.00000     3.000000       50.000000    135.000000\n",
      "75%        750.250000    53.00000     4.000000      300.000000    900.000000\n",
      "max       1000.000000    64.00000     4.000000      500.000000   2000.000000\n"
     ]
    }
   ],
   "source": [
    "print(df.describe())"
   ]
  },
  {
   "cell_type": "markdown",
   "metadata": {},
   "source": [
    "INSPECCIÓN DE DATOS"
   ]
  },
  {
   "cell_type": "code",
   "execution_count": 30,
   "metadata": {},
   "outputs": [
    {
     "name": "stdout",
     "output_type": "stream",
     "text": [
      "Transaction ID       int64\n",
      "Date                object\n",
      "Customer ID         object\n",
      "Gender              object\n",
      "Age                  int64\n",
      "Product Category    object\n",
      "Quantity             int64\n",
      "Price per Unit       int64\n",
      "Total Amount         int64\n",
      "dtype: object\n"
     ]
    }
   ],
   "source": [
    "print(df.dtypes)"
   ]
  },
  {
   "cell_type": "markdown",
   "metadata": {},
   "source": [
    "Conteo de valores únicos en la columna"
   ]
  },
  {
   "cell_type": "code",
   "execution_count": 31,
   "metadata": {},
   "outputs": [
    {
     "name": "stdout",
     "output_type": "stream",
     "text": [
      "Index(['Transaction ID', 'Date', 'Customer ID', 'Gender', 'Age',\n",
      "       'Product Category', 'Quantity', 'Price per Unit', 'Total Amount'],\n",
      "      dtype='object')\n"
     ]
    }
   ],
   "source": [
    "print(df.columns)"
   ]
  },
  {
   "cell_type": "code",
   "execution_count": 32,
   "metadata": {},
   "outputs": [
    {
     "name": "stdout",
     "output_type": "stream",
     "text": [
      "Product Category\n",
      "Clothing       351\n",
      "Electronics    342\n",
      "Beauty         307\n",
      "Name: count, dtype: int64\n"
     ]
    }
   ],
   "source": [
    "print(df['Product Category'].value_counts())"
   ]
  },
  {
   "cell_type": "markdown",
   "metadata": {},
   "source": [
    "Muestra todos los valores únicos en la columna Tienda utilizando el método unique(). #PROFE NO ENCONTRÉ NINGUNA COLUMNA TIENDA POR ESO LE PONGO DE COUSTUMER ID\""
   ]
  },
  {
   "cell_type": "code",
   "execution_count": 33,
   "metadata": {},
   "outputs": [
    {
     "name": "stdout",
     "output_type": "stream",
     "text": [
      "['CUST001' 'CUST002' 'CUST003' 'CUST004' 'CUST005' 'CUST006' 'CUST007'\n",
      " 'CUST008' 'CUST009' 'CUST010' 'CUST011' 'CUST012' 'CUST013' 'CUST014'\n",
      " 'CUST015' 'CUST016' 'CUST017' 'CUST018' 'CUST019' 'CUST020' 'CUST021'\n",
      " 'CUST022' 'CUST023' 'CUST024' 'CUST025' 'CUST026' 'CUST027' 'CUST028'\n",
      " 'CUST029' 'CUST030' 'CUST031' 'CUST032' 'CUST033' 'CUST034' 'CUST035'\n",
      " 'CUST036' 'CUST037' 'CUST038' 'CUST039' 'CUST040' 'CUST041' 'CUST042'\n",
      " 'CUST043' 'CUST044' 'CUST045' 'CUST046' 'CUST047' 'CUST048' 'CUST049'\n",
      " 'CUST050' 'CUST051' 'CUST052' 'CUST053' 'CUST054' 'CUST055' 'CUST056'\n",
      " 'CUST057' 'CUST058' 'CUST059' 'CUST060' 'CUST061' 'CUST062' 'CUST063'\n",
      " 'CUST064' 'CUST065' 'CUST066' 'CUST067' 'CUST068' 'CUST069' 'CUST070'\n",
      " 'CUST071' 'CUST072' 'CUST073' 'CUST074' 'CUST075' 'CUST076' 'CUST077'\n",
      " 'CUST078' 'CUST079' 'CUST080' 'CUST081' 'CUST082' 'CUST083' 'CUST084'\n",
      " 'CUST085' 'CUST086' 'CUST087' 'CUST088' 'CUST089' 'CUST090' 'CUST091'\n",
      " 'CUST092' 'CUST093' 'CUST094' 'CUST095' 'CUST096' 'CUST097' 'CUST098'\n",
      " 'CUST099' 'CUST100' 'CUST101' 'CUST102' 'CUST103' 'CUST104' 'CUST105'\n",
      " 'CUST106' 'CUST107' 'CUST108' 'CUST109' 'CUST110' 'CUST111' 'CUST112'\n",
      " 'CUST113' 'CUST114' 'CUST115' 'CUST116' 'CUST117' 'CUST118' 'CUST119'\n",
      " 'CUST120' 'CUST121' 'CUST122' 'CUST123' 'CUST124' 'CUST125' 'CUST126'\n",
      " 'CUST127' 'CUST128' 'CUST129' 'CUST130' 'CUST131' 'CUST132' 'CUST133'\n",
      " 'CUST134' 'CUST135' 'CUST136' 'CUST137' 'CUST138' 'CUST139' 'CUST140'\n",
      " 'CUST141' 'CUST142' 'CUST143' 'CUST144' 'CUST145' 'CUST146' 'CUST147'\n",
      " 'CUST148' 'CUST149' 'CUST150' 'CUST151' 'CUST152' 'CUST153' 'CUST154'\n",
      " 'CUST155' 'CUST156' 'CUST157' 'CUST158' 'CUST159' 'CUST160' 'CUST161'\n",
      " 'CUST162' 'CUST163' 'CUST164' 'CUST165' 'CUST166' 'CUST167' 'CUST168'\n",
      " 'CUST169' 'CUST170' 'CUST171' 'CUST172' 'CUST173' 'CUST174' 'CUST175'\n",
      " 'CUST176' 'CUST177' 'CUST178' 'CUST179' 'CUST180' 'CUST181' 'CUST182'\n",
      " 'CUST183' 'CUST184' 'CUST185' 'CUST186' 'CUST187' 'CUST188' 'CUST189'\n",
      " 'CUST190' 'CUST191' 'CUST192' 'CUST193' 'CUST194' 'CUST195' 'CUST196'\n",
      " 'CUST197' 'CUST198' 'CUST199' 'CUST200' 'CUST201' 'CUST202' 'CUST203'\n",
      " 'CUST204' 'CUST205' 'CUST206' 'CUST207' 'CUST208' 'CUST209' 'CUST210'\n",
      " 'CUST211' 'CUST212' 'CUST213' 'CUST214' 'CUST215' 'CUST216' 'CUST217'\n",
      " 'CUST218' 'CUST219' 'CUST220' 'CUST221' 'CUST222' 'CUST223' 'CUST224'\n",
      " 'CUST225' 'CUST226' 'CUST227' 'CUST228' 'CUST229' 'CUST230' 'CUST231'\n",
      " 'CUST232' 'CUST233' 'CUST234' 'CUST235' 'CUST236' 'CUST237' 'CUST238'\n",
      " 'CUST239' 'CUST240' 'CUST241' 'CUST242' 'CUST243' 'CUST244' 'CUST245'\n",
      " 'CUST246' 'CUST247' 'CUST248' 'CUST249' 'CUST250' 'CUST251' 'CUST252'\n",
      " 'CUST253' 'CUST254' 'CUST255' 'CUST256' 'CUST257' 'CUST258' 'CUST259'\n",
      " 'CUST260' 'CUST261' 'CUST262' 'CUST263' 'CUST264' 'CUST265' 'CUST266'\n",
      " 'CUST267' 'CUST268' 'CUST269' 'CUST270' 'CUST271' 'CUST272' 'CUST273'\n",
      " 'CUST274' 'CUST275' 'CUST276' 'CUST277' 'CUST278' 'CUST279' 'CUST280'\n",
      " 'CUST281' 'CUST282' 'CUST283' 'CUST284' 'CUST285' 'CUST286' 'CUST287'\n",
      " 'CUST288' 'CUST289' 'CUST290' 'CUST291' 'CUST292' 'CUST293' 'CUST294'\n",
      " 'CUST295' 'CUST296' 'CUST297' 'CUST298' 'CUST299' 'CUST300' 'CUST301'\n",
      " 'CUST302' 'CUST303' 'CUST304' 'CUST305' 'CUST306' 'CUST307' 'CUST308'\n",
      " 'CUST309' 'CUST310' 'CUST311' 'CUST312' 'CUST313' 'CUST314' 'CUST315'\n",
      " 'CUST316' 'CUST317' 'CUST318' 'CUST319' 'CUST320' 'CUST321' 'CUST322'\n",
      " 'CUST323' 'CUST324' 'CUST325' 'CUST326' 'CUST327' 'CUST328' 'CUST329'\n",
      " 'CUST330' 'CUST331' 'CUST332' 'CUST333' 'CUST334' 'CUST335' 'CUST336'\n",
      " 'CUST337' 'CUST338' 'CUST339' 'CUST340' 'CUST341' 'CUST342' 'CUST343'\n",
      " 'CUST344' 'CUST345' 'CUST346' 'CUST347' 'CUST348' 'CUST349' 'CUST350'\n",
      " 'CUST351' 'CUST352' 'CUST353' 'CUST354' 'CUST355' 'CUST356' 'CUST357'\n",
      " 'CUST358' 'CUST359' 'CUST360' 'CUST361' 'CUST362' 'CUST363' 'CUST364'\n",
      " 'CUST365' 'CUST366' 'CUST367' 'CUST368' 'CUST369' 'CUST370' 'CUST371'\n",
      " 'CUST372' 'CUST373' 'CUST374' 'CUST375' 'CUST376' 'CUST377' 'CUST378'\n",
      " 'CUST379' 'CUST380' 'CUST381' 'CUST382' 'CUST383' 'CUST384' 'CUST385'\n",
      " 'CUST386' 'CUST387' 'CUST388' 'CUST389' 'CUST390' 'CUST391' 'CUST392'\n",
      " 'CUST393' 'CUST394' 'CUST395' 'CUST396' 'CUST397' 'CUST398' 'CUST399'\n",
      " 'CUST400' 'CUST401' 'CUST402' 'CUST403' 'CUST404' 'CUST405' 'CUST406'\n",
      " 'CUST407' 'CUST408' 'CUST409' 'CUST410' 'CUST411' 'CUST412' 'CUST413'\n",
      " 'CUST414' 'CUST415' 'CUST416' 'CUST417' 'CUST418' 'CUST419' 'CUST420'\n",
      " 'CUST421' 'CUST422' 'CUST423' 'CUST424' 'CUST425' 'CUST426' 'CUST427'\n",
      " 'CUST428' 'CUST429' 'CUST430' 'CUST431' 'CUST432' 'CUST433' 'CUST434'\n",
      " 'CUST435' 'CUST436' 'CUST437' 'CUST438' 'CUST439' 'CUST440' 'CUST441'\n",
      " 'CUST442' 'CUST443' 'CUST444' 'CUST445' 'CUST446' 'CUST447' 'CUST448'\n",
      " 'CUST449' 'CUST450' 'CUST451' 'CUST452' 'CUST453' 'CUST454' 'CUST455'\n",
      " 'CUST456' 'CUST457' 'CUST458' 'CUST459' 'CUST460' 'CUST461' 'CUST462'\n",
      " 'CUST463' 'CUST464' 'CUST465' 'CUST466' 'CUST467' 'CUST468' 'CUST469'\n",
      " 'CUST470' 'CUST471' 'CUST472' 'CUST473' 'CUST474' 'CUST475' 'CUST476'\n",
      " 'CUST477' 'CUST478' 'CUST479' 'CUST480' 'CUST481' 'CUST482' 'CUST483'\n",
      " 'CUST484' 'CUST485' 'CUST486' 'CUST487' 'CUST488' 'CUST489' 'CUST490'\n",
      " 'CUST491' 'CUST492' 'CUST493' 'CUST494' 'CUST495' 'CUST496' 'CUST497'\n",
      " 'CUST498' 'CUST499' 'CUST500' 'CUST501' 'CUST502' 'CUST503' 'CUST504'\n",
      " 'CUST505' 'CUST506' 'CUST507' 'CUST508' 'CUST509' 'CUST510' 'CUST511'\n",
      " 'CUST512' 'CUST513' 'CUST514' 'CUST515' 'CUST516' 'CUST517' 'CUST518'\n",
      " 'CUST519' 'CUST520' 'CUST521' 'CUST522' 'CUST523' 'CUST524' 'CUST525'\n",
      " 'CUST526' 'CUST527' 'CUST528' 'CUST529' 'CUST530' 'CUST531' 'CUST532'\n",
      " 'CUST533' 'CUST534' 'CUST535' 'CUST536' 'CUST537' 'CUST538' 'CUST539'\n",
      " 'CUST540' 'CUST541' 'CUST542' 'CUST543' 'CUST544' 'CUST545' 'CUST546'\n",
      " 'CUST547' 'CUST548' 'CUST549' 'CUST550' 'CUST551' 'CUST552' 'CUST553'\n",
      " 'CUST554' 'CUST555' 'CUST556' 'CUST557' 'CUST558' 'CUST559' 'CUST560'\n",
      " 'CUST561' 'CUST562' 'CUST563' 'CUST564' 'CUST565' 'CUST566' 'CUST567'\n",
      " 'CUST568' 'CUST569' 'CUST570' 'CUST571' 'CUST572' 'CUST573' 'CUST574'\n",
      " 'CUST575' 'CUST576' 'CUST577' 'CUST578' 'CUST579' 'CUST580' 'CUST581'\n",
      " 'CUST582' 'CUST583' 'CUST584' 'CUST585' 'CUST586' 'CUST587' 'CUST588'\n",
      " 'CUST589' 'CUST590' 'CUST591' 'CUST592' 'CUST593' 'CUST594' 'CUST595'\n",
      " 'CUST596' 'CUST597' 'CUST598' 'CUST599' 'CUST600' 'CUST601' 'CUST602'\n",
      " 'CUST603' 'CUST604' 'CUST605' 'CUST606' 'CUST607' 'CUST608' 'CUST609'\n",
      " 'CUST610' 'CUST611' 'CUST612' 'CUST613' 'CUST614' 'CUST615' 'CUST616'\n",
      " 'CUST617' 'CUST618' 'CUST619' 'CUST620' 'CUST621' 'CUST622' 'CUST623'\n",
      " 'CUST624' 'CUST625' 'CUST626' 'CUST627' 'CUST628' 'CUST629' 'CUST630'\n",
      " 'CUST631' 'CUST632' 'CUST633' 'CUST634' 'CUST635' 'CUST636' 'CUST637'\n",
      " 'CUST638' 'CUST639' 'CUST640' 'CUST641' 'CUST642' 'CUST643' 'CUST644'\n",
      " 'CUST645' 'CUST646' 'CUST647' 'CUST648' 'CUST649' 'CUST650' 'CUST651'\n",
      " 'CUST652' 'CUST653' 'CUST654' 'CUST655' 'CUST656' 'CUST657' 'CUST658'\n",
      " 'CUST659' 'CUST660' 'CUST661' 'CUST662' 'CUST663' 'CUST664' 'CUST665'\n",
      " 'CUST666' 'CUST667' 'CUST668' 'CUST669' 'CUST670' 'CUST671' 'CUST672'\n",
      " 'CUST673' 'CUST674' 'CUST675' 'CUST676' 'CUST677' 'CUST678' 'CUST679'\n",
      " 'CUST680' 'CUST681' 'CUST682' 'CUST683' 'CUST684' 'CUST685' 'CUST686'\n",
      " 'CUST687' 'CUST688' 'CUST689' 'CUST690' 'CUST691' 'CUST692' 'CUST693'\n",
      " 'CUST694' 'CUST695' 'CUST696' 'CUST697' 'CUST698' 'CUST699' 'CUST700'\n",
      " 'CUST701' 'CUST702' 'CUST703' 'CUST704' 'CUST705' 'CUST706' 'CUST707'\n",
      " 'CUST708' 'CUST709' 'CUST710' 'CUST711' 'CUST712' 'CUST713' 'CUST714'\n",
      " 'CUST715' 'CUST716' 'CUST717' 'CUST718' 'CUST719' 'CUST720' 'CUST721'\n",
      " 'CUST722' 'CUST723' 'CUST724' 'CUST725' 'CUST726' 'CUST727' 'CUST728'\n",
      " 'CUST729' 'CUST730' 'CUST731' 'CUST732' 'CUST733' 'CUST734' 'CUST735'\n",
      " 'CUST736' 'CUST737' 'CUST738' 'CUST739' 'CUST740' 'CUST741' 'CUST742'\n",
      " 'CUST743' 'CUST744' 'CUST745' 'CUST746' 'CUST747' 'CUST748' 'CUST749'\n",
      " 'CUST750' 'CUST751' 'CUST752' 'CUST753' 'CUST754' 'CUST755' 'CUST756'\n",
      " 'CUST757' 'CUST758' 'CUST759' 'CUST760' 'CUST761' 'CUST762' 'CUST763'\n",
      " 'CUST764' 'CUST765' 'CUST766' 'CUST767' 'CUST768' 'CUST769' 'CUST770'\n",
      " 'CUST771' 'CUST772' 'CUST773' 'CUST774' 'CUST775' 'CUST776' 'CUST777'\n",
      " 'CUST778' 'CUST779' 'CUST780' 'CUST781' 'CUST782' 'CUST783' 'CUST784'\n",
      " 'CUST785' 'CUST786' 'CUST787' 'CUST788' 'CUST789' 'CUST790' 'CUST791'\n",
      " 'CUST792' 'CUST793' 'CUST794' 'CUST795' 'CUST796' 'CUST797' 'CUST798'\n",
      " 'CUST799' 'CUST800' 'CUST801' 'CUST802' 'CUST803' 'CUST804' 'CUST805'\n",
      " 'CUST806' 'CUST807' 'CUST808' 'CUST809' 'CUST810' 'CUST811' 'CUST812'\n",
      " 'CUST813' 'CUST814' 'CUST815' 'CUST816' 'CUST817' 'CUST818' 'CUST819'\n",
      " 'CUST820' 'CUST821' 'CUST822' 'CUST823' 'CUST824' 'CUST825' 'CUST826'\n",
      " 'CUST827' 'CUST828' 'CUST829' 'CUST830' 'CUST831' 'CUST832' 'CUST833'\n",
      " 'CUST834' 'CUST835' 'CUST836' 'CUST837' 'CUST838' 'CUST839' 'CUST840'\n",
      " 'CUST841' 'CUST842' 'CUST843' 'CUST844' 'CUST845' 'CUST846' 'CUST847'\n",
      " 'CUST848' 'CUST849' 'CUST850' 'CUST851' 'CUST852' 'CUST853' 'CUST854'\n",
      " 'CUST855' 'CUST856' 'CUST857' 'CUST858' 'CUST859' 'CUST860' 'CUST861'\n",
      " 'CUST862' 'CUST863' 'CUST864' 'CUST865' 'CUST866' 'CUST867' 'CUST868'\n",
      " 'CUST869' 'CUST870' 'CUST871' 'CUST872' 'CUST873' 'CUST874' 'CUST875'\n",
      " 'CUST876' 'CUST877' 'CUST878' 'CUST879' 'CUST880' 'CUST881' 'CUST882'\n",
      " 'CUST883' 'CUST884' 'CUST885' 'CUST886' 'CUST887' 'CUST888' 'CUST889'\n",
      " 'CUST890' 'CUST891' 'CUST892' 'CUST893' 'CUST894' 'CUST895' 'CUST896'\n",
      " 'CUST897' 'CUST898' 'CUST899' 'CUST900' 'CUST901' 'CUST902' 'CUST903'\n",
      " 'CUST904' 'CUST905' 'CUST906' 'CUST907' 'CUST908' 'CUST909' 'CUST910'\n",
      " 'CUST911' 'CUST912' 'CUST913' 'CUST914' 'CUST915' 'CUST916' 'CUST917'\n",
      " 'CUST918' 'CUST919' 'CUST920' 'CUST921' 'CUST922' 'CUST923' 'CUST924'\n",
      " 'CUST925' 'CUST926' 'CUST927' 'CUST928' 'CUST929' 'CUST930' 'CUST931'\n",
      " 'CUST932' 'CUST933' 'CUST934' 'CUST935' 'CUST936' 'CUST937' 'CUST938'\n",
      " 'CUST939' 'CUST940' 'CUST941' 'CUST942' 'CUST943' 'CUST944' 'CUST945'\n",
      " 'CUST946' 'CUST947' 'CUST948' 'CUST949' 'CUST950' 'CUST951' 'CUST952'\n",
      " 'CUST953' 'CUST954' 'CUST955' 'CUST956' 'CUST957' 'CUST958' 'CUST959'\n",
      " 'CUST960' 'CUST961' 'CUST962' 'CUST963' 'CUST964' 'CUST965' 'CUST966'\n",
      " 'CUST967' 'CUST968' 'CUST969' 'CUST970' 'CUST971' 'CUST972' 'CUST973'\n",
      " 'CUST974' 'CUST975' 'CUST976' 'CUST977' 'CUST978' 'CUST979' 'CUST980'\n",
      " 'CUST981' 'CUST982' 'CUST983' 'CUST984' 'CUST985' 'CUST986' 'CUST987'\n",
      " 'CUST988' 'CUST989' 'CUST990' 'CUST991' 'CUST992' 'CUST993' 'CUST994'\n",
      " 'CUST995' 'CUST996' 'CUST997' 'CUST998' 'CUST999' 'CUST1000']\n"
     ]
    }
   ],
   "source": [
    "print(df['Customer ID'].unique())"
   ]
  },
  {
   "cell_type": "markdown",
   "metadata": {},
   "source": [
    "FILTRADO DE DATOS"
   ]
  },
  {
   "cell_type": "markdown",
   "metadata": {},
   "source": [
    "Filtrar para mostrar ventas mayores a 50"
   ]
  },
  {
   "cell_type": "code",
   "execution_count": 34,
   "metadata": {},
   "outputs": [
    {
     "name": "stdout",
     "output_type": "stream",
     "text": [
      "Empty DataFrame\n",
      "Columns: [Transaction ID, Date, Customer ID, Gender, Age, Product Category, Quantity, Price per Unit, Total Amount]\n",
      "Index: []\n"
     ]
    }
   ],
   "source": [
    "ventas_mayores_50 = df[df['Quantity'] > 50]\n",
    "print(ventas_mayores_50)"
   ]
  },
  {
   "cell_type": "markdown",
   "metadata": {},
   "source": [
    "Mostrar solo las filas donde el precio (Precio) sea menor a 0.5."
   ]
  },
  {
   "cell_type": "code",
   "execution_count": 35,
   "metadata": {},
   "outputs": [
    {
     "name": "stdout",
     "output_type": "stream",
     "text": [
      "Empty DataFrame\n",
      "Columns: [Transaction ID, Date, Customer ID, Gender, Age, Product Category, Quantity, Price per Unit, Total Amount]\n",
      "Index: []\n"
     ]
    }
   ],
   "source": [
    "precio_menor_05 = df[df['Price per Unit'] < 0.5]\n",
    "print(precio_menor_05)"
   ]
  },
  {
   "cell_type": "markdown",
   "metadata": {},
   "source": [
    "Utilizando el método query(), filtra el DataFrame para mostrar las filas donde el producto sea Manzanas y las ventas sean mayores a 30."
   ]
  },
  {
   "cell_type": "code",
   "execution_count": 36,
   "metadata": {},
   "outputs": [
    {
     "name": "stdout",
     "output_type": "stream",
     "text": [
      "Empty DataFrame\n",
      "Columns: [Transaction ID, Date, Customer ID, Gender, Age, Product Category, Quantity, Price per Unit, Total Amount]\n",
      "Index: []\n"
     ]
    }
   ],
   "source": [
    "manzanas_ventas_mayores_30 = df.query(\"`Product Category` == 'Manzanas' and Quantity > 30\")\n",
    "print(manzanas_ventas_mayores_30)"
   ]
  },
  {
   "cell_type": "markdown",
   "metadata": {},
   "source": [
    "Seleccionar y mostrar solo las columnas Producto y Ventas del DataFrame."
   ]
  },
  {
   "cell_type": "code",
   "execution_count": 37,
   "metadata": {},
   "outputs": [
    {
     "name": "stdout",
     "output_type": "stream",
     "text": [
      "    Product Category  Quantity\n",
      "0             Beauty         3\n",
      "1           Clothing         2\n",
      "2        Electronics         1\n",
      "3           Clothing         1\n",
      "4             Beauty         2\n",
      "..               ...       ...\n",
      "995         Clothing         1\n",
      "996           Beauty         3\n",
      "997           Beauty         4\n",
      "998      Electronics         3\n",
      "999      Electronics         4\n",
      "\n",
      "[1000 rows x 2 columns]\n"
     ]
    }
   ],
   "source": [
    "print(df[['Product Category', 'Quantity']])"
   ]
  },
  {
   "cell_type": "markdown",
   "metadata": {},
   "source": [
    "Utilizar loc[], seleccionar y mostrar las filas de la 5 a la 10 (inclusive) y las columnas Producto y Tienda."
   ]
  },
  {
   "cell_type": "code",
   "execution_count": 38,
   "metadata": {},
   "outputs": [
    {
     "name": "stdout",
     "output_type": "stream",
     "text": [
      "   Product Category Customer ID\n",
      "5            Beauty     CUST006\n",
      "6          Clothing     CUST007\n",
      "7       Electronics     CUST008\n",
      "8       Electronics     CUST009\n",
      "9          Clothing     CUST010\n",
      "10         Clothing     CUST011\n"
     ]
    }
   ],
   "source": [
    "print(df.loc[5:10, ['Product Category', 'Customer ID']])"
   ]
  },
  {
   "cell_type": "markdown",
   "metadata": {},
   "source": [
    "Utilizar iloc[], seleccionar y mostrar las primeras 5 filas y las primeras 3 columnas del DataFrame."
   ]
  },
  {
   "cell_type": "code",
   "execution_count": 39,
   "metadata": {},
   "outputs": [
    {
     "name": "stdout",
     "output_type": "stream",
     "text": [
      "   Transaction ID        Date Customer ID\n",
      "0               1  2023-11-24     CUST001\n",
      "1               2  2023-02-27     CUST002\n",
      "2               3  2023-01-13     CUST003\n",
      "3               4  2023-05-21     CUST004\n",
      "4               5  2023-05-06     CUST005\n"
     ]
    }
   ],
   "source": [
    "print(df.iloc[:5, :3])"
   ]
  }
 ],
 "metadata": {
  "kernelspec": {
   "display_name": "Python 3",
   "language": "python",
   "name": "python3"
  },
  "language_info": {
   "codemirror_mode": {
    "name": "ipython",
    "version": 3
   },
   "file_extension": ".py",
   "mimetype": "text/x-python",
   "name": "python",
   "nbconvert_exporter": "python",
   "pygments_lexer": "ipython3",
   "version": "3.12.7"
  }
 },
 "nbformat": 4,
 "nbformat_minor": 2
}
