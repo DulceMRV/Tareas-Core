{
 "cells": [
  {
   "cell_type": "markdown",
   "metadata": {},
   "source": [
    "CARGAR DATOS"
   ]
  },
  {
   "cell_type": "code",
   "execution_count": 1,
   "metadata": {},
   "outputs": [],
   "source": [
    "import numpy as np\n",
    "\n",
    "# Función para cargar los datos del archivo CSV\n",
    "def cargar_datos(ruta_archivo):\n",
    "    # Cargar los datos del archivo CSV utilizando NumPy\n",
    "    datos = np.genfromtxt(ruta_archivo, delimiter=',', skip_header=1, dtype=float)\n",
    "    return datos"
   ]
  },
  {
   "cell_type": "code",
   "execution_count": 2,
   "metadata": {},
   "outputs": [
    {
     "name": "stdout",
     "output_type": "stream",
     "text": [
      "[[   1.   nan   nan   nan   34.   nan    3.   50.  150.]\n",
      " [   2.   nan   nan   nan   26.   nan    2.  500. 1000.]\n",
      " [   3.   nan   nan   nan   50.   nan    1.   30.   30.]\n",
      " [   4.   nan   nan   nan   37.   nan    1.  500.  500.]\n",
      " [   5.   nan   nan   nan   30.   nan    2.   50.  100.]]\n"
     ]
    }
   ],
   "source": [
    "if __name__ == \"__main__\":\n",
    "    # Ruta del archivo CSV \n",
    "    ruta_archivo = 'C:/Users/dulce/Downloads/retail_sales_dataset.csv'  # Cambia el nombre del archivo\n",
    "    \n",
    "    # Cargar los datos\n",
    "    datos = cargar_datos(ruta_archivo)\n",
    "    \n",
    "    # Mostrar los primeros datos cargados para verificar\n",
    "    print(datos[:5])  # Muestra las primeras 5 filas"
   ]
  }
 ],
 "metadata": {
  "kernelspec": {
   "display_name": "Python 3",
   "language": "python",
   "name": "python3"
  },
  "language_info": {
   "codemirror_mode": {
    "name": "ipython",
    "version": 3
   },
   "file_extension": ".py",
   "mimetype": "text/x-python",
   "name": "python",
   "nbconvert_exporter": "python",
   "pygments_lexer": "ipython3",
   "version": "3.12.7"
  }
 },
 "nbformat": 4,
 "nbformat_minor": 2
}
