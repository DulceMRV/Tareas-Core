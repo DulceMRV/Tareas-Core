{
 "cells": [
  {
   "cell_type": "code",
   "execution_count": 1,
   "metadata": {},
   "outputs": [],
   "source": [
    "import pandas as pd\n",
    "\n",
    "# Cargar los datos del archivo CSV\n",
    "ruta_archivo = 'C:/Users/dulce/Downloads/retail_sales_dataset.csv'  \n",
    "datos = pd.read_csv(ruta_archivo)"
   ]
  },
  {
   "cell_type": "code",
   "execution_count": 2,
   "metadata": {},
   "outputs": [
    {
     "name": "stdout",
     "output_type": "stream",
     "text": [
      "   Transaction ID        Date Customer ID  Gender  Age Product Category  \\\n",
      "0               1  2023-11-24     CUST001    Male   34           Beauty   \n",
      "1               2  2023-02-27     CUST002  Female   26         Clothing   \n",
      "2               3  2023-01-13     CUST003    Male   50      Electronics   \n",
      "3               4  2023-05-21     CUST004    Male   37         Clothing   \n",
      "4               5  2023-05-06     CUST005    Male   30           Beauty   \n",
      "\n",
      "   Quantity  Price per Unit  Total Amount  \n",
      "0         3              50           150  \n",
      "1         2             500          1000  \n",
      "2         1              30            30  \n",
      "3         1             500           500  \n",
      "4         2              50           100  \n"
     ]
    }
   ],
   "source": [
    "# Mostrar los primeros datos para verificar la carga correcta\n",
    "print(datos.head())"
   ]
  },
  {
   "cell_type": "code",
   "execution_count": 3,
   "metadata": {},
   "outputs": [
    {
     "name": "stdout",
     "output_type": "stream",
     "text": [
      "Total de ventas por categoría de producto:\n",
      "Product Category\n",
      "Beauty         143515\n",
      "Clothing       155580\n",
      "Electronics    156905\n",
      "Name: Total Amount, dtype: int64\n"
     ]
    }
   ],
   "source": [
    "# Total de ventas por categoría de producto\n",
    "ventas_por_categoria = datos.groupby('Product Category')['Total Amount'].sum()\n",
    "print(\"Total de ventas por categoría de producto:\")\n",
    "print(ventas_por_categoria)"
   ]
  },
  {
   "cell_type": "code",
   "execution_count": 4,
   "metadata": {},
   "outputs": [
    {
     "name": "stdout",
     "output_type": "stream",
     "text": [
      "\n",
      "Promedio de ventas diarias por categoría de producto:\n",
      "Product Category\n",
      "Beauty         467.475570\n",
      "Clothing       443.247863\n",
      "Electronics    458.786550\n",
      "Name: Total Amount, dtype: float64\n"
     ]
    }
   ],
   "source": [
    "# Promedio de ventas diarias por categoría de producto\n",
    "promedio_ventas_diarias = datos.groupby('Product Category')['Total Amount'].mean()\n",
    "print(\"\\nPromedio de ventas diarias por categoría de producto:\")\n",
    "print(promedio_ventas_diarias)"
   ]
  },
  {
   "cell_type": "code",
   "execution_count": 6,
   "metadata": {},
   "outputs": [],
   "source": [
    "# Identificar la categoría con mayores y menores ventas\n",
    "categoria_mayor_ventas = ventas_por_categoria.idxmax()\n",
    "categoria_menor_ventas = ventas_por_categoria.idxmin()"
   ]
  },
  {
   "cell_type": "code",
   "execution_count": 7,
   "metadata": {},
   "outputs": [
    {
     "name": "stdout",
     "output_type": "stream",
     "text": [
      "\n",
      "Categoría con mayores ventas: Electronics\n",
      "Categoría con menores ventas: Beauty\n"
     ]
    }
   ],
   "source": [
    "print(f\"\\nCategoría con mayores ventas: {categoria_mayor_ventas}\")\n",
    "print(f\"Categoría con menores ventas: {categoria_menor_ventas}\")"
   ]
  },
  {
   "cell_type": "code",
   "execution_count": 11,
   "metadata": {},
   "outputs": [],
   "source": [
    "# Filtrar datos para mostrar solo las ventas de una categoría específica\n",
    "categoria_especifica = 'Electronics'  \n",
    "datos_filtrados = datos[datos['Product Category'] == categoria_especifica]"
   ]
  },
  {
   "cell_type": "code",
   "execution_count": 12,
   "metadata": {},
   "outputs": [
    {
     "name": "stdout",
     "output_type": "stream",
     "text": [
      "\n",
      "Datos filtrados para la categoría 'Electronics':\n",
      "     Transaction ID        Date Customer ID  Gender  Age Product Category  \\\n",
      "2                 3  2023-01-13     CUST003    Male   50      Electronics   \n",
      "7                 8  2023-02-22     CUST008    Male   30      Electronics   \n",
      "8                 9  2023-12-13     CUST009    Male   63      Electronics   \n",
      "12               13  2023-08-05     CUST013    Male   22      Electronics   \n",
      "14               15  2023-01-16     CUST015  Female   42      Electronics   \n",
      "..              ...         ...         ...     ...  ...              ...   \n",
      "988             989  2023-12-28     CUST989  Female   44      Electronics   \n",
      "991             992  2023-08-21     CUST992  Female   57      Electronics   \n",
      "992             993  2023-02-06     CUST993  Female   48      Electronics   \n",
      "998             999  2023-12-05     CUST999  Female   36      Electronics   \n",
      "999            1000  2023-04-12    CUST1000    Male   47      Electronics   \n",
      "\n",
      "     Quantity  Price per Unit  Total Amount  \n",
      "2           1              30            30  \n",
      "7           4              25           100  \n",
      "8           2             300           600  \n",
      "12          3             500          1500  \n",
      "14          4             500          2000  \n",
      "..        ...             ...           ...  \n",
      "988         1              25            25  \n",
      "991         2              30            60  \n",
      "992         3              50           150  \n",
      "998         3              50           150  \n",
      "999         4              30           120  \n",
      "\n",
      "[342 rows x 9 columns]\n"
     ]
    }
   ],
   "source": [
    "# Mostrar los datos filtrados\n",
    "print(f\"\\nDatos filtrados para la categoría '{categoria_especifica}':\")\n",
    "print(datos_filtrados)"
   ]
  },
  {
   "cell_type": "code",
   "execution_count": 13,
   "metadata": {},
   "outputs": [
    {
     "name": "stdout",
     "output_type": "stream",
     "text": [
      "\n",
      "Suma total de ventas en la categoría 'Electronics': 156905\n"
     ]
    }
   ],
   "source": [
    "# Suma de total de ventas\n",
    "suma_total_ventas = datos_filtrados['Total Amount'].sum()\n",
    "print(f\"\\nSuma total de ventas en la categoría '{categoria_especifica}': {suma_total_ventas}\")"
   ]
  },
  {
   "cell_type": "code",
   "execution_count": 14,
   "metadata": {},
   "outputs": [
    {
     "name": "stdout",
     "output_type": "stream",
     "text": [
      "Diferencia entre la venta máxima y mínima en 'Electronics': 1975\n"
     ]
    }
   ],
   "source": [
    "# Resta: Diferencia entre la venta máxima y mínima\n",
    "diferencia_ventas = datos_filtrados['Total Amount'].max() - datos_filtrados['Total Amount'].min()\n",
    "print(f\"Diferencia entre la venta máxima y mínima en '{categoria_especifica}': {diferencia_ventas}\")"
   ]
  },
  {
   "cell_type": "code",
   "execution_count": 15,
   "metadata": {},
   "outputs": [
    {
     "name": "stdout",
     "output_type": "stream",
     "text": [
      "Total de ventas con un aumento del 10%: 172595.5\n"
     ]
    }
   ],
   "source": [
    "# Multiplicación: Total de ventas con un aumento del 10%\n",
    "total_con_aumento = suma_total_ventas * 1.1\n",
    "print(f\"Total de ventas con un aumento del 10%: {total_con_aumento}\")"
   ]
  },
  {
   "cell_type": "code",
   "execution_count": 16,
   "metadata": {},
   "outputs": [
    {
     "name": "stdout",
     "output_type": "stream",
     "text": [
      "Ventas promedio por producto en 'Electronics': 184.811542991755\n"
     ]
    }
   ],
   "source": [
    "# División: Ventas promedio por producto\n",
    "cantidad_ventas = datos_filtrados['Quantity'].sum()  # Total de unidades vendidas\n",
    "ventas_por_producto = suma_total_ventas / cantidad_ventas if cantidad_ventas > 0 else 0\n",
    "print(f\"Ventas promedio por producto en '{categoria_especifica}': {ventas_por_producto}\")"
   ]
  }
 ],
 "metadata": {
  "kernelspec": {
   "display_name": "Python 3",
   "language": "python",
   "name": "python3"
  },
  "language_info": {
   "codemirror_mode": {
    "name": "ipython",
    "version": 3
   },
   "file_extension": ".py",
   "mimetype": "text/x-python",
   "name": "python",
   "nbconvert_exporter": "python",
   "pygments_lexer": "ipython3",
   "version": "3.12.7"
  }
 },
 "nbformat": 4,
 "nbformat_minor": 2
}
